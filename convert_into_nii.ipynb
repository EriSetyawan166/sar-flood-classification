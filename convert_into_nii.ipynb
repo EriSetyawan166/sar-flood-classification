{
  "nbformat": 4,
  "nbformat_minor": 0,
  "metadata": {
    "colab": {
      "provenance": []
    },
    "kernelspec": {
      "name": "python3",
      "display_name": "Python 3"
    },
    "language_info": {
      "name": "python"
    }
  },
  "cells": [
    {
      "cell_type": "code",
      "execution_count": 15,
      "metadata": {
        "id": "17YvcuuS8Fmg"
      },
      "outputs": [],
      "source": [
        "import os\n",
        "import nibabel as nib\n",
        "from PIL import Image\n",
        "from google.colab import drive\n",
        "import numpy as np"
      ]
    },
    {
      "cell_type": "code",
      "source": [
        "# Mount Google Drive\n",
        "drive.mount('/content/drive', force_remount=True)"
      ],
      "metadata": {
        "colab": {
          "base_uri": "https://localhost:8080/"
        },
        "id": "KLIpoukr8G3R",
        "outputId": "11fac545-4e0e-41ee-ed9a-67b03b3bedcb"
      },
      "execution_count": 32,
      "outputs": [
        {
          "output_type": "stream",
          "name": "stdout",
          "text": [
            "Mounted at /content/drive\n"
          ]
        }
      ]
    },
    {
      "cell_type": "code",
      "source": [
        "# Directory paths in Google Drive\n",
        "base_directory = '/content/drive/MyDrive/backup data'\n",
        "bmp_directories = ['flood', 'non-flood']\n",
        "output_directory = '/content/drive/MyDrive/backup data/NIfTI'\n",
        "\n",
        "# Create the output directory if it doesn't exist\n",
        "os.makedirs(output_directory, exist_ok=True)"
      ],
      "metadata": {
        "id": "l3Ak0QTe8KZL"
      },
      "execution_count": 33,
      "outputs": []
    },
    {
      "cell_type": "code",
      "source": [
        "# Loop through each BMP directory\n",
        "for bmp_directory in bmp_directories:\n",
        "    # Directory containing the .bmp files in Google Drive\n",
        "    directory_path = os.path.join(base_directory, bmp_directory)\n",
        "\n",
        "    # Loop through each .bmp file in the directory\n",
        "    for filename in os.listdir(directory_path):\n",
        "        if filename.endswith(\".bmp\"):\n",
        "            # Load the image using PIL (Python Imaging Library)\n",
        "            bmp_path = os.path.join(directory_path, filename)\n",
        "            bmp_image = Image.open(bmp_path)\n",
        "\n",
        "            # Convert the PIL image to a NumPy array\n",
        "            bmp_array = np.array(bmp_image)\n",
        "\n",
        "            # Create a 3D volume with a single slice\n",
        "            volume = np.expand_dims(bmp_array, axis=-1)\n",
        "\n",
        "            # Create the NIfTI object using the volume array\n",
        "            nifti_image = nib.Nifti1Image(volume, None)\n",
        "\n",
        "            # Save the NIfTI file\n",
        "            output_path = os.path.join(output_directory, bmp_directory, os.path.splitext(filename)[0] + '.nii.gz')\n",
        "            os.makedirs(os.path.dirname(output_path), exist_ok=True)\n",
        "            nib.save(nifti_image, output_path)\n",
        "\n",
        "            print(f\"Converted {filename} to {output_path}\")"
      ],
      "metadata": {
        "colab": {
          "base_uri": "https://localhost:8080/"
        },
        "id": "-8OIK-W68M2o",
        "outputId": "3de71380-295b-4f66-d19c-9e34b10ccbd0"
      },
      "execution_count": 34,
      "outputs": [
        {
          "output_type": "stream",
          "name": "stdout",
          "text": [
            "Converted CoVV.bmp to /content/drive/MyDrive/backup data/NIfTI/flood/CoVV.nii.gz\n",
            "Converted CoVH.bmp to /content/drive/MyDrive/backup data/NIfTI/flood/CoVH.nii.gz\n",
            "Converted Co-CH.bmp to /content/drive/MyDrive/backup data/NIfTI/flood/Co-CH.nii.gz\n",
            "Converted Pre01VV.bmp to /content/drive/MyDrive/backup data/NIfTI/flood/Pre01VV.nii.gz\n",
            "Converted Pre01VH.bmp to /content/drive/MyDrive/backup data/NIfTI/flood/Pre01VH.nii.gz\n",
            "Converted Pre02VV.bmp to /content/drive/MyDrive/backup data/NIfTI/flood/Pre02VV.nii.gz\n",
            "Converted Pre02VH.bmp to /content/drive/MyDrive/backup data/NIfTI/flood/Pre02VH.nii.gz\n",
            "Converted Pre03VV.bmp to /content/drive/MyDrive/backup data/NIfTI/flood/Pre03VV.nii.gz\n",
            "Converted Pre03VH.bmp to /content/drive/MyDrive/backup data/NIfTI/flood/Pre03VH.nii.gz\n",
            "Converted Pre04VV.bmp to /content/drive/MyDrive/backup data/NIfTI/flood/Pre04VV.nii.gz\n",
            "Converted Pre04VH.bmp to /content/drive/MyDrive/backup data/NIfTI/flood/Pre04VH.nii.gz\n",
            "Converted Pre-CH.bmp to /content/drive/MyDrive/backup data/NIfTI/non-flood/Pre-CH.nii.gz\n",
            "Converted Pre11VV.bmp to /content/drive/MyDrive/backup data/NIfTI/non-flood/Pre11VV.nii.gz\n",
            "Converted Pre12VV.bmp to /content/drive/MyDrive/backup data/NIfTI/non-flood/Pre12VV.nii.gz\n",
            "Converted Pre12VH.bmp to /content/drive/MyDrive/backup data/NIfTI/non-flood/Pre12VH.nii.gz\n",
            "Converted Pre13VV.bmp to /content/drive/MyDrive/backup data/NIfTI/non-flood/Pre13VV.nii.gz\n",
            "Converted Pre13VH.bmp to /content/drive/MyDrive/backup data/NIfTI/non-flood/Pre13VH.nii.gz\n",
            "Converted Pre14VV.bmp to /content/drive/MyDrive/backup data/NIfTI/non-flood/Pre14VV.nii.gz\n",
            "Converted Pre14VH.bmp to /content/drive/MyDrive/backup data/NIfTI/non-flood/Pre14VH.nii.gz\n",
            "Converted Pre15VV.bmp to /content/drive/MyDrive/backup data/NIfTI/non-flood/Pre15VV.nii.gz\n",
            "Converted Pre15VH.bmp to /content/drive/MyDrive/backup data/NIfTI/non-flood/Pre15VH.nii.gz\n",
            "Converted Pre11VH.bmp to /content/drive/MyDrive/backup data/NIfTI/non-flood/Pre11VH.nii.gz\n"
          ]
        }
      ]
    }
  ]
}